{
 "cells": [
  {
   "cell_type": "markdown",
   "metadata": {},
   "source": [
    "Numpy is the fundamental package for numeric computing with Python. It provides powerful ways to create store and manipulate data, which makes it able to seamlessly and speedily integrate with a wide variety of databases and data formats. This is also the foundation that Pandas is built on which is a high performance data-centric package that we're going to learn more about in this course. \n",
    "\n",
    "In this lecture, we're going to talk about creating arrays with certain data types, manipulating arrays ,selecting elements from arrays and loading data sets into arrays. Such functions are useful for manipulating data and understanding the functionalities of other common python data packages"
   ]
  },
  {
   "cell_type": "code",
   "execution_count": 1,
   "metadata": {},
   "outputs": [],
   "source": [
    "import numpy as np\n",
    "import math"
   ]
  },
  {
   "cell_type": "markdown",
   "metadata": {},
   "source": [
    "### Array Creation"
   ]
  },
  {
   "cell_type": "code",
   "execution_count": 5,
   "metadata": {},
   "outputs": [
    {
     "name": "stdout",
     "output_type": "stream",
     "text": [
      "[1 2 3]\n",
      "1\n"
     ]
    }
   ],
   "source": [
    "a = np.array([1,2,3])\n",
    "print(a)\n",
    "\n",
    "# We can print the number of dimensions of a list using the ndim attribute\n",
    "print(a.ndim)"
   ]
  },
  {
   "cell_type": "code",
   "execution_count": 7,
   "metadata": {},
   "outputs": [
    {
     "data": {
      "text/plain": [
       "array([[1, 2, 3],\n",
       "       [4, 5, 6]])"
      ]
     },
     "execution_count": 7,
     "metadata": {},
     "output_type": "execute_result"
    }
   ],
   "source": [
    "# If we pass in a list of lists in numpy array, we create a multi-dimensional array, for instance, a matix\n",
    "b = np.array([[1,2,3],[4,5,6]])\n",
    "b"
   ]
  },
  {
   "cell_type": "code",
   "execution_count": 8,
   "metadata": {},
   "outputs": [
    {
     "data": {
      "text/plain": [
       "(2, 3)"
      ]
     },
     "execution_count": 8,
     "metadata": {},
     "output_type": "execute_result"
    }
   ],
   "source": [
    "# We can print out the length of each dimnesion by calling the shape attribute (return a tuple)\n",
    "b.shape"
   ]
  },
  {
   "cell_type": "code",
   "execution_count": 10,
   "metadata": {},
   "outputs": [
    {
     "data": {
      "text/plain": [
       "dtype('int32')"
      ]
     },
     "execution_count": 10,
     "metadata": {},
     "output_type": "execute_result"
    }
   ],
   "source": [
    "# We can also check the type of items in the array\n",
    "a.dtype"
   ]
  },
  {
   "cell_type": "code",
   "execution_count": 11,
   "metadata": {},
   "outputs": [
    {
     "data": {
      "text/plain": [
       "'float64'"
      ]
     },
     "execution_count": 11,
     "metadata": {},
     "output_type": "execute_result"
    }
   ],
   "source": [
    "# Besides integers, floats are also accepted in numpy arrays\n",
    "c = np.array([2.2,5,1.1])\n",
    "c.dtype.name"
   ]
  },
  {
   "cell_type": "code",
   "execution_count": 12,
   "metadata": {},
   "outputs": [
    {
     "data": {
      "text/plain": [
       "array([2.2, 5. , 1.1])"
      ]
     },
     "execution_count": 12,
     "metadata": {},
     "output_type": "execute_result"
    }
   ],
   "source": [
    "c"
   ]
  },
  {
   "cell_type": "code",
   "execution_count": 14,
   "metadata": {},
   "outputs": [
    {
     "name": "stdout",
     "output_type": "stream",
     "text": [
      "[[0. 0. 0.]\n",
      " [0. 0. 0.]]\n",
      "[[1. 1. 1.]\n",
      " [1. 1. 1.]]\n"
     ]
    }
   ],
   "source": [
    "# Sometimes we know the shape of array that we want to create, but not sure what to be in it.\n",
    "# Numpy offers several functions to create arrays with initial placeholders, such as zero;s or one's\n",
    "\n",
    "d = np.zeros((2,3))\n",
    "print(d)\n",
    "\n",
    "e = np.ones((2,3))\n",
    "print(e)"
   ]
  },
  {
   "cell_type": "code",
   "execution_count": 15,
   "metadata": {},
   "outputs": [
    {
     "data": {
      "text/plain": [
       "array([[0.26904508, 0.53195099, 0.62811633],\n",
       "       [0.28970976, 0.53427158, 0.38971614]])"
      ]
     },
     "execution_count": 15,
     "metadata": {},
     "output_type": "execute_result"
    }
   ],
   "source": [
    "# We can also generate an array with random numbers\n",
    "\n",
    "np.random.rand(2,3)"
   ]
  },
  {
   "cell_type": "code",
   "execution_count": 19,
   "metadata": {},
   "outputs": [
    {
     "data": {
      "text/plain": [
       "array([10, 12, 14, 16, 18, 20, 22, 24, 26, 28, 30, 32, 34, 36, 38, 40, 42,\n",
       "       44, 46, 48])"
      ]
     },
     "execution_count": 19,
     "metadata": {},
     "output_type": "execute_result"
    }
   ],
   "source": [
    "# We can also create a sequence of numbers in array with the arange() function.\n",
    "# The first argument is the starting bound\n",
    "# The second argument is the ending bound (not inclusive)\n",
    "# The third argument is the difference between each consecutive numbers (spacing)\n",
    "\n",
    "f = np.arange(10,50,2)\n",
    "f"
   ]
  },
  {
   "cell_type": "code",
   "execution_count": 21,
   "metadata": {},
   "outputs": [
    {
     "data": {
      "text/plain": [
       "array([0.        , 0.27272727, 0.54545455, 0.81818182, 1.09090909,\n",
       "       1.36363636, 1.63636364, 1.90909091, 2.18181818, 2.45454545,\n",
       "       2.72727273, 3.        ])"
      ]
     },
     "execution_count": 21,
     "metadata": {},
     "output_type": "execute_result"
    }
   ],
   "source": [
    "# If we to generate a sequence of floats, we can use the linspace() function. \n",
    "# The third argument here is the total number of elements we want to generate\n",
    "\n",
    "np.linspace(0,3,12)"
   ]
  },
  {
   "cell_type": "markdown",
   "metadata": {},
   "source": [
    "### Array Operations"
   ]
  },
  {
   "cell_type": "code",
   "execution_count": 22,
   "metadata": {},
   "outputs": [
    {
     "name": "stdout",
     "output_type": "stream",
     "text": [
      "[ 9 18 27 36]\n",
      "[ 10  40  90 160]\n"
     ]
    }
   ],
   "source": [
    "# Arithmetic operators on array applay elementwise\n",
    "\n",
    "a = np.array([10,20,30,40])\n",
    "b = np.array([1,2,3,4])\n",
    "\n",
    "c = a -b \n",
    "print(c)\n",
    "\n",
    "d = a*b\n",
    "print(d)"
   ]
  },
  {
   "cell_type": "code",
   "execution_count": 23,
   "metadata": {},
   "outputs": [
    {
     "data": {
      "text/plain": [
       "array([-17.22222222, -22.77777778, -20.        , -25.55555556,\n",
       "       -17.22222222])"
      ]
     },
     "execution_count": 23,
     "metadata": {},
     "output_type": "execute_result"
    }
   ],
   "source": [
    "# Let's create an array of typical Ann arbor winter farenheit values\n",
    "farenheit = np.array([0,-10,-5,-15,0])\n",
    "\n",
    "celcius = (farenheit - 31) * (5/9)\n",
    "celcius"
   ]
  },
  {
   "cell_type": "code",
   "execution_count": 25,
   "metadata": {},
   "outputs": [
    {
     "data": {
      "text/plain": [
       "array([ True, False, False, False,  True])"
      ]
     },
     "execution_count": 25,
     "metadata": {},
     "output_type": "execute_result"
    }
   ],
   "source": [
    "# Boolean array \n",
    "# We can apply an operator on an array, and a boolean array will be returned for any element in the original, with True being the output if it meets the condition.\n",
    "\n",
    "celcius > -20"
   ]
  },
  {
   "cell_type": "code",
   "execution_count": null,
   "metadata": {},
   "outputs": [],
   "source": []
  }
 ],
 "metadata": {
  "kernelspec": {
   "display_name": "Python 3.9.6 64-bit",
   "language": "python",
   "name": "python3"
  },
  "language_info": {
   "codemirror_mode": {
    "name": "ipython",
    "version": 3
   },
   "file_extension": ".py",
   "mimetype": "text/x-python",
   "name": "python",
   "nbconvert_exporter": "python",
   "pygments_lexer": "ipython3",
   "version": "3.9.6"
  },
  "orig_nbformat": 4,
  "vscode": {
   "interpreter": {
    "hash": "53d6b41c6967e7b5b6fc777c9b7ff25245c7f4953d469ef11039e4afa6ce620a"
   }
  }
 },
 "nbformat": 4,
 "nbformat_minor": 2
}
